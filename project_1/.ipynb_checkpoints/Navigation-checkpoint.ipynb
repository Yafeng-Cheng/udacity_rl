{
 "cells": [
  {
   "cell_type": "markdown",
   "metadata": {},
   "source": [
    "# Navigation\n",
    "\n",
    "---\n",
    "\n",
    "You are welcome to use this coding environment to train your agent for the project.  Follow the instructions below to get started!\n",
    "\n",
    "### 1. Start the Environment\n",
    "\n",
    "Run the next code cell to install a few packages.  This line will take a few minutes to run!"
   ]
  },
  {
   "cell_type": "code",
   "execution_count": 1,
   "metadata": {},
   "outputs": [],
   "source": [
    "!pip -q install ./python"
   ]
  },
  {
   "cell_type": "markdown",
   "metadata": {},
   "source": [
    "The environment is already saved in the Workspace and can be accessed at the file path provided below.  Please run the next code cell without making any changes."
   ]
  },
  {
   "cell_type": "code",
   "execution_count": 2,
   "metadata": {},
   "outputs": [
    {
     "name": "stderr",
     "output_type": "stream",
     "text": [
      "INFO:unityagents:\n",
      "'Academy' started successfully!\n",
      "Unity Academy name: Academy\n",
      "        Number of Brains: 1\n",
      "        Number of External Brains : 1\n",
      "        Lesson number : 0\n",
      "        Reset Parameters :\n",
      "\t\t\n",
      "Unity brain name: BananaBrain\n",
      "        Number of Visual Observations (per agent): 0\n",
      "        Vector Observation space type: continuous\n",
      "        Vector Observation space size (per agent): 37\n",
      "        Number of stacked Vector Observation: 1\n",
      "        Vector Action space type: discrete\n",
      "        Vector Action space size (per agent): 4\n",
      "        Vector Action descriptions: , , , \n"
     ]
    }
   ],
   "source": [
    "from unityagents import UnityEnvironment\n",
    "import numpy as np\n",
    "\n",
    "# please do not modify the line below\n",
    "env = UnityEnvironment(file_name=\"/data/Banana_Linux_NoVis/Banana.x86_64\")"
   ]
  },
  {
   "cell_type": "markdown",
   "metadata": {},
   "source": [
    "Environments contain **_brains_** which are responsible for deciding the actions of their associated agents. Here we check for the first brain available, and set it as the default brain we will be controlling from Python."
   ]
  },
  {
   "cell_type": "code",
   "execution_count": 3,
   "metadata": {},
   "outputs": [],
   "source": [
    "# get the default brain\n",
    "brain_name = env.brain_names[0]\n",
    "brain = env.brains[brain_name]"
   ]
  },
  {
   "cell_type": "markdown",
   "metadata": {},
   "source": [
    "### 2. Examine the State and Action Spaces\n",
    "\n",
    "Run the code cell below to print some information about the environment."
   ]
  },
  {
   "cell_type": "code",
   "execution_count": 4,
   "metadata": {},
   "outputs": [
    {
     "name": "stdout",
     "output_type": "stream",
     "text": [
      "Number of agents: 1\n",
      "Number of actions: 4\n",
      "States look like: [ 1.          0.          0.          0.          0.84408134  0.          0.\n",
      "  1.          0.          0.0748472   0.          1.          0.          0.\n",
      "  0.25755     1.          0.          0.          0.          0.74177343\n",
      "  0.          1.          0.          0.          0.25854847  0.          0.\n",
      "  1.          0.          0.09355672  0.          1.          0.          0.\n",
      "  0.31969345  0.          0.        ]\n",
      "States have length: 37\n"
     ]
    }
   ],
   "source": [
    "# reset the environment\n",
    "env_info = env.reset(train_mode=True)[brain_name]\n",
    "\n",
    "# number of agents in the environment\n",
    "print('Number of agents:', len(env_info.agents))\n",
    "\n",
    "# number of actions\n",
    "action_size = brain.vector_action_space_size\n",
    "print('Number of actions:', action_size)\n",
    "\n",
    "# examine the state space \n",
    "state = env_info.vector_observations[0]\n",
    "print('States look like:', state)\n",
    "state_size = len(state)\n",
    "print('States have length:', state_size)"
   ]
  },
  {
   "cell_type": "markdown",
   "metadata": {},
   "source": [
    "### 3. Take Random Actions in the Environment\n",
    "\n",
    "In the next code cell, you will learn how to use the Python API to control the agent and receive feedback from the environment.\n",
    "\n",
    "Note that **in this coding environment, you will not be able to watch the agent while it is training**, and you should set `train_mode=True` to restart the environment."
   ]
  },
  {
   "cell_type": "code",
   "execution_count": 5,
   "metadata": {},
   "outputs": [
    {
     "name": "stdout",
     "output_type": "stream",
     "text": [
      "Score: 0.0\n"
     ]
    }
   ],
   "source": [
    "env_info = env.reset(train_mode=True)[brain_name] # reset the environment\n",
    "state = env_info.vector_observations[0]            # get the current state\n",
    "score = 0                                          # initialize the score\n",
    "while True:\n",
    "    action = np.random.randint(action_size)        # select an action\n",
    "    env_info = env.step(action)[brain_name]        # send the action to the environment\n",
    "    next_state = env_info.vector_observations[0]   # get the next state\n",
    "    reward = env_info.rewards[0]                   # get the reward\n",
    "    done = env_info.local_done[0]                  # see if episode has finished\n",
    "    score += reward                                # update the score\n",
    "    state = next_state                             # roll over the state to next time step\n",
    "    if done:                                       # exit loop if episode finished\n",
    "        break\n",
    "    \n",
    "print(\"Score: {}\".format(score))"
   ]
  },
  {
   "cell_type": "markdown",
   "metadata": {},
   "source": [
    "When finished, you can close the environment."
   ]
  },
  {
   "cell_type": "markdown",
   "metadata": {},
   "source": [
    "### 4. Prepare the functions"
   ]
  },
  {
   "cell_type": "code",
   "execution_count": 6,
   "metadata": {},
   "outputs": [],
   "source": [
    "## import necessary packages\n",
    "import torch\n",
    "import torch.nn as nn\n",
    "import torch.nn.functional as F\n",
    "from collections import OrderedDict\n",
    "from collections import namedtuple, deque\n",
    "import torch.optim as optim\n",
    "import random"
   ]
  },
  {
   "cell_type": "code",
   "execution_count": 7,
   "metadata": {},
   "outputs": [],
   "source": [
    "# a function to create neural network models\n",
    "# the number of laters and number of hidden units in each layer is defined as a list\n",
    "# hidden_sizes = [64, 64] means two hidden layers and each layer has 64 hidden units\n",
    "# a list of activation functions must be provided with the same length as the hidden_size\n",
    "def QNetwork(\n",
    "    state_size, \n",
    "    action_size, \n",
    "    hidden_sizes = [64,64], \n",
    "    activation = [nn.ReLU(),nn.ReLU()],\n",
    "    seed = 1\n",
    "):\n",
    "    input_size = state_size\n",
    "    output_size = action_size\n",
    "    torch.manual_seed(seed)\n",
    "    my_layers = []\n",
    "    hidden_sizes = [input_size] + hidden_sizes\n",
    "    for i_layer in range(len(hidden_sizes)-1):\n",
    "        my_layers.append(\n",
    "            ('fc'+str(i_layer), nn.Linear(hidden_sizes[i_layer], hidden_sizes[i_layer+1]))\n",
    "        )\n",
    "        my_layers.append(\n",
    "            ('act'+str(i_layer), activation[i_layer])\n",
    "        )\n",
    "    my_layers.append(('output', nn.Linear(hidden_sizes[-1], output_size)))\n",
    "\n",
    "    model = nn.Sequential(OrderedDict(my_layers))\n",
    "    \n",
    "    return model"
   ]
  },
  {
   "cell_type": "code",
   "execution_count": 8,
   "metadata": {},
   "outputs": [],
   "source": [
    "# method to generate replay buffer (exactly same as the one from the practice)\n",
    "class ReplayBuffer:\n",
    "    \"\"\"Fixed-size buffer to store experience tuples.\"\"\"\n",
    "\n",
    "    def __init__(self, action_size, buffer_size, batch_size, seed):\n",
    "        \"\"\"Initialize a ReplayBuffer object.\n",
    "\n",
    "        Params\n",
    "        ======\n",
    "            action_size (int): dimension of each action\n",
    "            buffer_size (int): maximum size of buffer\n",
    "            batch_size (int): size of each training batch\n",
    "            seed (int): random seed\n",
    "        \"\"\"\n",
    "        self.action_size = action_size\n",
    "        self.memory = deque(maxlen=buffer_size)  \n",
    "        self.batch_size = batch_size\n",
    "        self.experience = namedtuple(\"Experience\", field_names=[\"state\", \"action\", \"reward\", \"next_state\", \"done\"])\n",
    "        self.seed = random.seed(seed)\n",
    "    \n",
    "    def add(self, state, action, reward, next_state, done):\n",
    "        \"\"\"Add a new experience to memory.\"\"\"\n",
    "        e = self.experience(state, action, reward, next_state, done)\n",
    "        self.memory.append(e)\n",
    "    \n",
    "    def sample(self):\n",
    "        \"\"\"Randomly sample a batch of experiences from memory.\"\"\"\n",
    "        experiences = random.sample(self.memory, k=self.batch_size)\n",
    "\n",
    "        states = torch.from_numpy(np.vstack([e.state for e in experiences if e is not None])).float().to(device)\n",
    "        actions = torch.from_numpy(np.vstack([e.action for e in experiences if e is not None])).long().to(device)\n",
    "        rewards = torch.from_numpy(np.vstack([e.reward for e in experiences if e is not None])).float().to(device)\n",
    "        next_states = torch.from_numpy(np.vstack([e.next_state for e in experiences if e is not None])).float().to(device)\n",
    "        dones = torch.from_numpy(np.vstack([e.done for e in experiences if e is not None]).astype(np.uint8)).float().to(device)\n",
    "  \n",
    "        return (states, actions, rewards, next_states, dones)\n",
    "\n",
    "    def __len__(self):\n",
    "        \"\"\"Return the current size of internal memory.\"\"\"\n",
    "        return len(self.memory)"
   ]
  },
  {
   "cell_type": "code",
   "execution_count": 9,
   "metadata": {},
   "outputs": [],
   "source": [
    "## my function to run dql with arguments\n",
    "device = torch.device(\"cuda:0\" if torch.cuda.is_available() else \"cpu\")\n",
    "\n",
    "\n",
    "def my_dqn(\n",
    "    n_episodes, # number of episodes to run\n",
    "    tau = 0.01, # update rate?\n",
    "    LR = 5e-4, # learning rate\n",
    "    eps_decay = 0.99, # decay rate for epsilon greedy policy gradient\n",
    "    eps_start = 1, # starting rate for epsilon greedy policy gradient\n",
    "    eps_end = 0.1, # end rate for epsilon greedy policy gradient\n",
    "    BATCH_SIZE = 64, # batch size\n",
    "    gamma = 0.99, # decay rate for future return\n",
    "    max_t = 1000, # maximum number of steps in one episode\n",
    "    hiden_layer_size = [64,64], # neural network hidden layer number and number of cells in each layer\n",
    "    hiden_layer_act = [nn.ReLU(),nn.ReLU()], # neural network activation function in each hidden layer\n",
    "    memory_size = 100, # replay buffer size\n",
    "    update_every_t = 4, # learn after every x generation steps\n",
    "    n_updates = 2, # number of updates every x generation steps\n",
    "    trace=100, # print out summary every trace episodes\n",
    "    seed = 1\n",
    "):\n",
    "    scores = []                        # list containing scores from each episode\n",
    "    scores_window = deque(maxlen=100)  # last 100 scores\n",
    "    eps_ = eps_start                    # initialize epsilon\n",
    "    \n",
    "    # local model\n",
    "    qnetwork_local = QNetwork(\n",
    "        state_size, action_size, hidden_sizes = hiden_layer_size, activation = hiden_layer_act,seed = seed\n",
    "    ).to(device)\n",
    "    # target model ()\n",
    "    qnetwork_target = QNetwork(\n",
    "        state_size, action_size, hidden_sizes = hiden_layer_size, activation = hiden_layer_act,seed = seed\n",
    "    ).to(device)\n",
    "    # define optimizer\n",
    "    optimizer = optim.Adam(qnetwork_local.parameters(), lr=LR)\n",
    "    # define a replay buffer\n",
    "    my_memory = ReplayBuffer(\n",
    "        action_size = action_size, buffer_size = memory_size, batch_size = BATCH_SIZE, seed = seed\n",
    "    )\n",
    "    \n",
    "    for i_episode in range(1, n_episodes+1):\n",
    "        # define epsilon in a negative sigmoid fashion\n",
    "        eps_ = max(eps_end, eps_*eps_decay)\n",
    "        \n",
    "        env_info = env.reset(train_mode=True)[brain_name] # reset the environment\n",
    "        state = env_info.vector_observations[0]            # get the current state\n",
    "        score = 0                                          # initialize the score\n",
    "        for t_i in range(max_t):\n",
    "            # epsilon greedy\n",
    "            if np.random.random()<eps_:\n",
    "                action = np.random.randint(action_size) \n",
    "            else:\n",
    "                state = torch.from_numpy(state).float().unsqueeze(0).to(device)\n",
    "                action_values = qnetwork_local(state)\n",
    "                action = np.argmax(action_values.cpu().data.numpy())\n",
    "\n",
    "            env_info = env.step(action)[brain_name]        # send the action to the environment\n",
    "            next_state = env_info.vector_observations[0]   # get the next state\n",
    "            reward = env_info.rewards[0]                   # get the reward\n",
    "            done = env_info.local_done[0]                  # see if episode has finished\n",
    "            score += reward                                # update the score\n",
    "            my_memory.add(state, action, reward, next_state, done)\n",
    "            \n",
    "            if (t_i%update_every_t==0) & (len(my_memory) > BATCH_SIZE):\n",
    "                # update the model every update_every_t times and if we have enough samples in the replay memory\n",
    "                for n_update in range(n_updates):\n",
    "                    # update n_updates times\n",
    "                    states, actions, rewards, next_states, dones = my_memory.sample()\n",
    "                    # update the model\n",
    "                    Q_targets_next = qnetwork_target(next_states).detach().max(1)[0].unsqueeze(1)\n",
    "                    Q_targets = rewards + gamma*Q_targets_next*(1-dones)\n",
    "                    Q_targets_expected = qnetwork_local(states).gather(1,actions)\n",
    "\n",
    "                    loss = F.mse_loss(Q_targets_expected, Q_targets)\n",
    "                    optimizer.zero_grad()\n",
    "                    loss.backward()\n",
    "                    optimizer.step()\n",
    "\n",
    "                    for target_param, local_param in zip(qnetwork_target.parameters(), qnetwork_local.parameters()):\n",
    "                        target_param.data.copy_(tau*local_param.data + (1.0-tau)*target_param.data)\n",
    "                    # finished updating\n",
    "            state = next_state                             # roll over the state to next time step\n",
    "            if done:                                       # exit loop if episode finished\n",
    "                break\n",
    "        scores_window.append(score)       # save most recent score\n",
    "        scores.append(score)              # save most recent score\n",
    "        if i_episode % trace == 0:\n",
    "            print('\\rEpisode {}\\tAverage Score: {:.2f}'.format(i_episode, np.mean(scores_window)))\n",
    "        if np.mean(scores_window)>13:\n",
    "            torch.save(qnetwork_local.state_dict(), 'checkpoint.pth')\n",
    "    return scores"
   ]
  },
  {
   "cell_type": "code",
   "execution_count": 10,
   "metadata": {
    "scrolled": true
   },
   "outputs": [
    {
     "name": "stdout",
     "output_type": "stream",
     "text": [
      "Episode 100\tAverage Score: 0.42\n",
      "Episode 200\tAverage Score: 3.42\n",
      "Episode 300\tAverage Score: 6.86\n",
      "Episode 400\tAverage Score: 8.88\n",
      "Episode 500\tAverage Score: 11.04\n",
      "Episode 600\tAverage Score: 11.98\n",
      "Episode 700\tAverage Score: 10.31\n",
      "Episode 800\tAverage Score: 12.55\n",
      "Episode 900\tAverage Score: 13.53\n",
      "Episode 1000\tAverage Score: 13.56\n",
      "Episode 1100\tAverage Score: 12.15\n",
      "Episode 1200\tAverage Score: 11.81\n",
      "Episode 1300\tAverage Score: 12.47\n",
      "Episode 1400\tAverage Score: 12.93\n",
      "Episode 1500\tAverage Score: 12.72\n",
      "Episode 1600\tAverage Score: 13.38\n",
      "Episode 1700\tAverage Score: 12.32\n",
      "Episode 1800\tAverage Score: 11.97\n",
      "Episode 1900\tAverage Score: 12.16\n",
      "Episode 2000\tAverage Score: 13.10\n"
     ]
    }
   ],
   "source": [
    "out = my_dqn(\n",
    "    2000,\n",
    "    tau = 0.0005, # update rate?\n",
    "    LR = 5e-4, # learning rate\n",
    "    eps_decay = 0.995, # decay rate for epsilon greedy policy gradient\n",
    "    eps_start = 1, # starting rate for epsilon greedy policy gradient\n",
    "    eps_end = 0.1, # end rate for epsilon greedy policy gradient\n",
    "    BATCH_SIZE = 64, # batch size\n",
    "    gamma = 0.99, # decay rate for future return\n",
    "    max_t = 1000, # maximum number of steps in one episode\n",
    "    hiden_layer_size = [32,64,32], # neural network hidden layer number and number of cells in each layer\n",
    "    hiden_layer_act = [nn.ReLU(),nn.ReLU(),nn.ReLU()], # neural network activation function in each hidden layer\n",
    "    memory_size = 10000, # replay buffer size\n",
    "    update_every_t = 4, # learn after every x generation steps\n",
    "    n_updates = 1, # number of updates every x generation steps\n",
    "    trace=100, # print out summary every trace episodes\n",
    "    seed =1\n",
    ")"
   ]
  },
  {
   "cell_type": "code",
   "execution_count": 11,
   "metadata": {
    "scrolled": false
   },
   "outputs": [
    {
     "data": {
      "image/png": "[encoded data removed]",
      "text/plain": [
       "<matplotlib.figure.Figure at 0x7f22e6889320>"
      ]
     },
     "metadata": {
      "needs_background": "light"
     },
     "output_type": "display_data"
    }
   ],
   "source": [
    "import matplotlib.pyplot as plt\n",
    "\n",
    "%matplotlib inline\n",
    "fig = plt.figure(figsize=(10,8))\n",
    "ax = fig.add_subplot(111)\n",
    "plt.plot(np.arange(len(out)), out)\n",
    "plt.ylabel('Score')\n",
    "plt.xlabel('Episode #')\n",
    "plt.show()"
   ]
  },
  {
   "cell_type": "code",
   "execution_count": null,
   "metadata": {},
   "outputs": [],
   "source": []
  },
  {
   "cell_type": "code",
   "execution_count": 12,
   "metadata": {},
   "outputs": [],
   "source": [
    "env.close()"
   ]
  }
 ],
 "metadata": {
  "kernelspec": {
   "display_name": "drlnd",
   "language": "python",
   "name": "python3"
  },
  "language_info": {
   "codemirror_mode": {
    "name": "ipython",
    "version": 3
   },
   "file_extension": ".py",
   "mimetype": "text/x-python",
   "name": "python",
   "nbconvert_exporter": "python",
   "pygments_lexer": "ipython3",
   "version": "3.6.8"
  }
 },
 "nbformat": 4,
 "nbformat_minor": 2
}
